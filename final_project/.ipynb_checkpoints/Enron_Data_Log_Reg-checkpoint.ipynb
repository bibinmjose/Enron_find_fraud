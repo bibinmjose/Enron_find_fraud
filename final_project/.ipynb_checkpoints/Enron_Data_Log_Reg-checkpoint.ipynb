{
 "cells": [
  {
   "cell_type": "code",
   "execution_count": 62,
   "metadata": {
    "collapsed": true
   },
   "outputs": [],
   "source": [
    "### Inserting necessary packages and functions from files\n",
    "\n",
    "from time import time\n",
    "import sys\n",
    "import pickle\n",
    "import numpy\n",
    "sys.path.append(\"../tools/\")\n",
    "from feature_format import featureFormat, targetFeatureSplit\n",
    "from tester import dump_classifier_and_data\n",
    "from matplotlib import pyplot as plt\n",
    "from sklearn.preprocessing import MinMaxScaler\n",
    "from matplotlib.colors import ListedColormap\n",
    "import pprint as pp"
   ]
  },
  {
   "cell_type": "code",
   "execution_count": 99,
   "metadata": {
    "scrolled": false
   },
   "outputs": [
    {
     "name": "stdout",
     "output_type": "stream",
     "text": [
      "['bonus', 'deferral_payments', 'deferred_income', 'director_fees', 'email_address', 'exercised_stock_options', 'expenses', 'from_messages', 'from_poi_to_this_person', 'from_this_person_to_poi', 'loan_advances', 'long_term_incentive', 'other', 'poi', 'restricted_stock', 'restricted_stock_deferred', 'salary', 'shared_receipt_with_poi', 'to_messages', 'total_payments', 'total_stock_value']\n"
     ]
    }
   ],
   "source": [
    "### Task 1: Select what features you'll use.\n",
    "### features_list is a list of strings, each of which is a feature name.\n",
    "### The first feature must be \"poi\".\n",
    "features_list = ['poi','salary',\n",
    "\t\t\t\t'bonus','to_messages',\n",
    "\t\t\t\t'deferral_payments','total_payments',\n",
    "\t\t\t\t'exercised_stock_options','restricted_stock',\n",
    "\t\t\t\t'shared_receipt_with_poi','restricted_stock_deferred',\n",
    "\t\t\t\t'total_stock_value','expenses',\n",
    "\t\t\t\t'loan_advances','from_messages',\n",
    "\t\t\t\t'other','from_this_person_to_poi',\n",
    "\t\t\t\t'director_fees','deferred_income',\n",
    "\t\t\t\t'long_term_incentive','email_address','from_poi_to_this_person']\n",
    "\n",
    "### Load the dictionary containing the dataset\n",
    "with open(\"final_project_dataset.pkl\", \"r\") as data_file:\n",
    "    data_dict = pickle.load(data_file)\n",
    "\n",
    "### Task 2: Remove outliers\n",
    "data_dict.pop(\"TOTAL\")\n",
    "print sorted(features_list)"
   ]
  },
  {
   "cell_type": "code",
   "execution_count": 64,
   "metadata": {
    "scrolled": true
   },
   "outputs": [
    {
     "name": "stdout",
     "output_type": "stream",
     "text": [
      "1 METTS MARK\n",
      "2 BAXTER JOHN C\n",
      "3 ELLIOTT STEVEN\n",
      "4 CORDES WILLIAM R\n",
      "5 HANNON KEVIN P\n",
      "6 MORDAUNT KRISTINA M\n",
      "7 MEYER ROCKFORD G\n",
      "8 MCMAHON JEFFREY\n",
      "9 HORTON STANLEY C\n",
      "10 PIPER GREGORY F\n",
      "11 HUMPHREY GENE E\n",
      "12 UMANOFF ADAM S\n",
      "13 BLACHMAN JEREMY M\n",
      "14 SUNDE MARTIN\n",
      "15 GIBBS DANA R\n",
      "16 LOWRY CHARLES P\n",
      "17 COLWELL WESLEY\n",
      "18 MULLER MARK S\n",
      "19 JACKSON CHARLENE R\n",
      "20 WESTFAHL RICHARD K\n",
      "21 WALTERS GARETH W\n",
      "22 WALLS JR ROBERT H\n",
      "23 KITCHEN LOUISE\n",
      "24 CHAN RONNIE\n",
      "25 BELFER ROBERT\n",
      "26 SHANKMAN JEFFREY A\n",
      "27 WODRASKA JOHN\n",
      "28 BERGSIEKER RICHARD P\n",
      "29 URQUHART JOHN A\n",
      "30 BIBI PHILIPPE A\n",
      "31 RIEKER PAULA H\n",
      "32 WHALEY DAVID A\n",
      "33 BECK SALLY W\n",
      "34 HAUG DAVID L\n",
      "35 ECHOLS JOHN B\n",
      "36 MENDELSOHN JOHN\n",
      "37 HICKERSON GARY J\n",
      "38 CLINE KENNETH W\n",
      "39 LEWIS RICHARD\n",
      "40 HAYES ROBERT E\n",
      "41 MCCARTY DANNY J\n",
      "42 KOPPER MICHAEL J\n",
      "43 LEFF DANIEL P\n",
      "44 LAVORATO JOHN J\n",
      "45 BERBERIAN DAVID\n",
      "46 DETMERING TIMOTHY J\n",
      "47 WAKEHAM JOHN\n",
      "48 POWERS WILLIAM\n",
      "49 GOLD JOSEPH\n",
      "50 BANNANTINE JAMES M\n",
      "51 DUNCAN JOHN H\n",
      "52 SHAPIRO RICHARD S\n",
      "53 SHERRIFF JOHN R\n",
      "54 SHELBY REX\n",
      "55 LEMAISTRE CHARLES\n",
      "56 DEFFNER JOSEPH M\n",
      "57 KISHKILL JOSEPH G\n",
      "58 WHALLEY LAWRENCE G\n",
      "59 MCCONNELL MICHAEL S\n",
      "60 PIRO JIM\n",
      "61 DELAINEY DAVID W\n",
      "62 SULLIVAN-SHAKLOVITZ COLLEEN\n",
      "63 WROBEL BRUCE\n",
      "64 LINDHOLM TOD A\n",
      "65 MEYER JEROME J\n",
      "66 LAY KENNETH L\n",
      "67 BUTTS ROBERT H\n",
      "68 OLSON CINDY K\n",
      "69 MCDONALD REBECCA\n",
      "70 CUMBERLAND MICHAEL S\n",
      "71 GAHN ROBERT S\n",
      "72 MCCLELLAN GEORGE\n",
      "73 HERMANN ROBERT J\n",
      "74 SCRIMSHAW MATTHEW\n",
      "75 GATHMANN WILLIAM D\n",
      "76 HAEDICKE MARK E\n",
      "77 BOWEN JR RAYMOND M\n",
      "78 GILLIS JOHN\n",
      "79 FITZGERALD JAY L\n",
      "80 MORAN MICHAEL P\n",
      "81 REDMOND BRIAN L\n",
      "82 BAZELIDES PHILIP J\n",
      "83 BELDEN TIMOTHY N\n",
      "84 DURAN WILLIAM D\n",
      "85 THORN TERENCE H\n",
      "86 FASTOW ANDREW S\n",
      "87 FOY JOE\n",
      "88 CALGER CHRISTOPHER F\n",
      "89 RICE KENNETH D\n",
      "90 KAMINSKI WINCENTY J\n",
      "91 LOCKHART EUGENE E\n",
      "92 COX DAVID\n",
      "93 OVERDYKE JR JERE C\n",
      "94 PEREIRA PAULO V. FERRAZ\n",
      "95 STABLER FRANK\n",
      "96 SKILLING JEFFREY K\n",
      "97 BLAKE JR. NORMAN P\n",
      "98 SHERRICK JEFFREY B\n",
      "99 PRENTICE JAMES\n",
      "100 GRAY RODNEY\n",
      "101 PICKERING MARK R\n",
      "102 THE TRAVEL AGENCY IN THE PARK\n",
      "103 NOLES JAMES L\n",
      "104 KEAN STEVEN J\n",
      "105 FOWLER PEGGY\n",
      "106 WASAFF GEORGE\n",
      "107 WHITE JR THOMAS E\n",
      "108 CHRISTODOULOU DIOMEDES\n",
      "109 ALLEN PHILLIP K\n",
      "110 SHARP VICTORIA T\n",
      "111 JAEDICKE ROBERT\n",
      "112 WINOKUR JR. HERBERT S\n",
      "113 BROWN MICHAEL\n",
      "114 BADUM JAMES P\n",
      "115 HUGHES JAMES A\n",
      "116 REYNOLDS LAWRENCE\n",
      "117 DIMICHELE RICHARD G\n",
      "118 BHATNAGAR SANJAY\n",
      "119 CARTER REBECCA C\n",
      "120 BUCHANAN HAROLD G\n",
      "121 YEAP SOON\n",
      "122 MURRAY JULIA H\n",
      "123 GARLAND C KEVIN\n",
      "124 DODSON KEITH\n",
      "125 YEAGER F SCOTT\n",
      "126 HIRKO JOSEPH\n",
      "127 DIETRICH JANET R\n",
      "128 DERRICK JR. JAMES V\n",
      "129 FREVERT MARK A\n",
      "130 PAI LOU L\n",
      "131 BAY FRANKLIN R\n",
      "132 HAYSLETT RODERICK J\n",
      "133 FUGH JOHN L\n",
      "134 FALLON JAMES B\n",
      "135 KOENIG MARK E\n",
      "136 SAVAGE FRANK\n",
      "137 IZZO LAWRENCE L\n",
      "138 TILNEY ELIZABETH A\n",
      "139 MARTIN AMANDA K\n",
      "140 BUY RICHARD B\n",
      "141 GRAMM WENDY L\n",
      "142 CAUSEY RICHARD A\n",
      "143 TAYLOR MITCHELL S\n",
      "144 DONAHUE JR JEFFREY M\n",
      "145 GLISAN JR BEN F\n"
     ]
    }
   ],
   "source": [
    "n = 1\n",
    "for person in data_dict.keys():\n",
    "    print n, person\n",
    "    n +=1"
   ]
  },
  {
   "cell_type": "code",
   "execution_count": 108,
   "metadata": {},
   "outputs": [],
   "source": [
    "### Task 3: Create new feature(s)\n",
    "### Store to my_dataset for easy export below\n",
    "\n",
    "for name in data_dict:\n",
    "    try:\n",
    "        data_dict[name]['bonus_squared'] = data_dict[name]['bonus']^2\n",
    "        data_dict[name]['bonus_log'] = log(data_dict[name]['bonus'])\n",
    "        data_dict[name]['bonus_sqrt'] = (data_dict[name]['bonus'])^0.5\n",
    "        data_dict[name]['salary_squared'] = data_dict[name]['salary']^2\n",
    "        data_dict[name]['salary_log'] = log(data_dict[name]['salary'])\n",
    "        data_dict[name]['salary_sqrt'] = (data_dict[name]['salary'])^0.5\n",
    "        data_dict[name]['exercised_stock_options_squared'] = data_dict[name]['exercised_stock_options']^2\n",
    "        data_dict[name]['exercised_stock_options_log'] = log(data_dict[name]['exercised_stock_options'])\n",
    "        data_dict[name]['exercised_stock_options_sqrt'] = (data_dict[name]['exercised_stock_options'])^0.5\n",
    "        data_dict[name]['restricted_stock_squared'] = data_dict[name]['restricted_stock']^2\n",
    "        data_dict[name]['restricted_stock_log'] = log(data_dict[name]['restricted_stock'])\n",
    "        data_dict[name]['restricted_stock_sqrt'] = (data_dict[name]['restricted_stock'])^0.5\n",
    "        data_dict[name]['restricted_stock_deferred_squared'] = data_dict[name]['restricted_stock_deferred']^2\n",
    "        data_dict[name]['restricted_stock_deferred_log'] = log(data_dict[name]['restricted_stock_deferred'])\n",
    "        data_dict[name]['restricted_stock_deferred_sqrt'] = (data_dict[name]['restricted_stock_deferred'])^0.5\n",
    "        data_dict[name]['total_stock_value_squared'] = data_dict[name]['total_stock_value']^2\n",
    "        data_dict[name]['total_stock_value_log'] = sqrt(data_dict[name]['total_stock_value'])\n",
    "        data_dict[name]['total_stock_value_sqrt'] = (data_dict[name]['total_stock_value'])^0.5\n",
    "        data_dict[name]['poi_to_ratio'] = data_dict[name]['from_poi_to_this_person']\\\n",
    "        /data_dict[name]['to_messages']\n",
    "        data_dict[name]['poi_from_ratio'] = data_dict[name]['from_this_person_to_poi']\\\n",
    "        /data_dict[name]['from_messages']\n",
    "        data_dict[name]['poi_ratio'] = log((data_dict[name]['from_poi_to_this_person'] + \\\n",
    "        \tdata_dict[name]['from_this_person_to_poi'])/(data_dict[name]['to_messages']\\\n",
    "        \t+data_dict[name]['from_messages']))\n",
    "        data_dict[name]['defferral_stock_ratio'] = data_dict[name]['deferral_payments']/\\\n",
    "        \t\t\t\t\t\t\t\t\t\t\tdata_dict[name]['total_payments']\n",
    "        data_dict[name]['restricted_stock_ratio'] = data_dict[name]['restricted_stock']/\\\n",
    "        \t\t\t\t\t\t\t\t\t\t\tdata_dict[name]['total_stock_value']\n",
    "    except:\n",
    "        data_dict[name]['bonus_squared'] = 'NaN'\n",
    "        data_dict[name]['bonus_log'] = 'NaN'\n",
    "        data_dict[name]['bonus_sqrt'] = 'NaN'\n",
    "        data_dict[name]['salary_squared'] = 'NaN'\n",
    "        data_dict[name]['salary_log'] = 'NaN'\n",
    "        data_dict[name]['salary_sqrt'] = 'NaN'\n",
    "        data_dict[name]['exercised_stock_options_squared'] = 'NaN'\n",
    "        data_dict[name]['exercised_stock_options_log'] = 'NaN'\n",
    "        data_dict[name]['exercised_stock_options_sqrt'] = 'NaN'\n",
    "        data_dict[name]['restricted_stock_squared'] = 'NaN'\n",
    "        data_dict[name]['restricted_stock_log'] = 'NaN'\n",
    "        data_dict[name]['restricted_stock_sqrt'] = 'NaN'\n",
    "        data_dict[name]['restricted_stock_deferred_squared'] = 'NaN'\n",
    "        data_dict[name]['restricted_stock_deferred_log'] = 'NaN'\n",
    "        data_dict[name]['restricted_stock_deferred_sqrt'] = 'NaN'\n",
    "        data_dict[name]['total_stock_value_squared'] = 'NaN'\n",
    "        data_dict[name]['total_stock_value_log'] = 'NaN'\n",
    "        data_dict[name]['total_stock_value_sqrt'] = 'NaN'\n",
    "        data_dict[name]['poi_to_ratio'] = 'NaN'\n",
    "        data_dict[name]['poi_from_ratio'] = 'NaN'\n",
    "        data_dict[name]['poi_ratio'] = 'NaN'\n",
    "        data_dict[name]['defferral_stock_ratio'] = 'NaN'\n",
    "        data_dict[name]['restricted_stock_ratio'] = 'NaN'\n",
    "        \n",
    "my_dataset = data_dict\n",
    "### Extract features and labels from dataset for local testing\n",
    "data = featureFormat(my_dataset, features_list, sort_keys = True)\n",
    "labels, features = targetFeatureSplit(data)"
   ]
  },
  {
   "cell_type": "code",
   "execution_count": 109,
   "metadata": {},
   "outputs": [],
   "source": [
    "### Task 4: Try a varity of classifiers\n",
    "### Please name your classifier clf for easy export below.\n",
    "### Note that if you want to do PCA or other multi-stage operations,\n",
    "### you'll need to use Pipelines. For more info:\n",
    "### http://scikit-learn.org/stable/modules/pipeline.html\n",
    "\n",
    "# Provided to give you a starting point. Try a variety of classifiers.\n",
    "from sklearn.naive_bayes import GaussianNB\n",
    "from sklearn.neighbors import KNeighborsClassifier\n",
    "from sklearn.tree import DecisionTreeClassifier\n",
    "from sklearn.svm import SVC\n",
    "from sklearn.linear_model import LogisticRegression\n",
    "from sklearn.metrics import accuracy_score, precision_score, recall_score, f1_score\n",
    "from sklearn.decomposition import PCA\n",
    "from parameters import weights_NB\n",
    "from sklearn.model_selection import GridSearchCV\n",
    "from sklearn.cross_validation import train_test_split"
   ]
  },
  {
   "cell_type": "code",
   "execution_count": 115,
   "metadata": {},
   "outputs": [
    {
     "name": "stdout",
     "output_type": "stream",
     "text": [
      "Fraction of data explained after transformed with PCA\t: 0.573049049471\n"
     ]
    },
    {
     "data": {
      "image/png": "[encoded data removed]",
      "text/plain": [
       "<matplotlib.figure.Figure at 0x116c812d0>"
      ]
     },
     "metadata": {},
     "output_type": "display_data"
    }
   ],
   "source": [
    "### Task 5: Tune your classifier to achieve better than .3 precision and recall \n",
    "### using our testing script. Check the tester.py script in the final project\n",
    "### folder for details on the evaluation method, especially the test_classifier\n",
    "### function. Because of the small size of the dataset, the script uses\n",
    "### stratified shuffle split cross validation. For more info: \n",
    "### http://scikit-learn.org/stable/modules/generated/sklearn.cross_validation.StratifiedShuffleSplit.html\n",
    "\n",
    "features_train, features_test, labels_train, labels_test = \\\n",
    "train_test_split(features, labels, test_size=0.3, random_state=42)\n",
    "### scaling the features of test and train\n",
    "features_train = MinMaxScaler().fit_transform(features_train)\n",
    "features_test = MinMaxScaler().fit_transform(features_test)\n",
    "\n",
    "### Perfoming PCA on features for reducing dimensionality\n",
    "pca = PCA(n_components = 10, random_state=42).fit(features_train)\n",
    "print \"Fraction of data explained after transformed with PCA\\t:\",\\\n",
    "sum(pca.explained_variance_ratio_)\n",
    "features_train_pca = pca.transform(features_train)\n",
    "features_test_pca = pca.transform(features_test)\n",
    "plt.clf()\n",
    "plt.plot(pca.explained_variance_, linewidth=2)\n",
    "plt.axis('tight')\n",
    "plt.xlabel('nth_components')\n",
    "plt.ylabel('explained_variance_')\n",
    "plt.show()"
   ]
  },
  {
   "cell_type": "code",
   "execution_count": 116,
   "metadata": {},
   "outputs": [
    {
     "data": {
      "image/png": "[encoded data removed]",
      "text/plain": [
       "<matplotlib.figure.Figure at 0x1173fc250>"
      ]
     },
     "metadata": {},
     "output_type": "display_data"
    }
   ],
   "source": [
    "## plotting the first 2 components\n",
    "cm = plt.cm.RdBu\n",
    "cm_bright = ListedColormap(['#0000FF', '#FF0000'])\n",
    "plt.scatter(features_train_pca[:, 0], features_train_pca[:, 1], \\\n",
    "            c=labels_train, cmap=cm_bright,alpha = 0.6)\n",
    "plt.scatter(features_test_pca[:, 0], features_test_pca[:, 1], \\\n",
    "            c=labels_test, cmap=cm_bright,alpha = 0.6)\n",
    "plt.show()"
   ]
  },
  {
   "cell_type": "code",
   "execution_count": 117,
   "metadata": {},
   "outputs": [
    {
     "data": {
      "text/plain": [
       "LogisticRegression(C=1.0, class_weight='balanced', dual=False,\n",
       "          fit_intercept=True, intercept_scaling=1, max_iter=1000,\n",
       "          multi_class='ovr', n_jobs=1, penalty='l2', random_state=None,\n",
       "          solver='liblinear', tol=0.0001, verbose=0, warm_start=False)"
      ]
     },
     "execution_count": 117,
     "metadata": {},
     "output_type": "execute_result"
    }
   ],
   "source": [
    "## Defining the classifier and fitting the curve to predict output\n",
    "t0=time()\n",
    "clf = LogisticRegression(class_weight = \"balanced\",C=1.0,solver = 'liblinear', max_iter = 1000)\n",
    "# parameters = {'C' : [0.01,0.1,0.5,1,2,100]}\n",
    "# clf = GridSearchCV(clf_lr, parameters)\n",
    "clf.fit(features_train_pca,labels_train)\n",
    "# print \"Best Parameters\",clf.best_params_"
   ]
  },
  {
   "cell_type": "code",
   "execution_count": 118,
   "metadata": {
    "scrolled": true
   },
   "outputs": [
    {
     "name": "stdout",
     "output_type": "stream",
     "text": [
      "Training time\t: 1.082 secs\n",
      "Accuracy\t: 0.454545454545\n",
      "Precision\t: 0.172413793103\n",
      "Recall\t\t: 1.0\n",
      "F1 Score\t: 0.294117647059\n"
     ]
    }
   ],
   "source": [
    "y_pred = clf.predict(features_test_pca)\n",
    "print \"Training time\\t:\", round(time()-t0,3),\"secs\"\n",
    "print \"Accuracy\\t:\", accuracy_score(labels_test, y_pred)\n",
    "print \"Precision\\t:\", precision_score(labels_test, y_pred)\n",
    "print \"Recall\\t\\t:\", recall_score(labels_test, y_pred)\n",
    "print \"F1 Score\\t:\", f1_score(labels_test, y_pred)"
   ]
  },
  {
   "cell_type": "code",
   "execution_count": 119,
   "metadata": {},
   "outputs": [
    {
     "data": {
      "image/png": "[encoded data removed]",
      "text/plain": [
       "<matplotlib.figure.Figure at 0x116fee390>"
      ]
     },
     "metadata": {},
     "output_type": "display_data"
    }
   ],
   "source": [
    "### Task 6: Dump your classifier, dataset, and features_list so anyone can\n",
    "### check your results. You do not need to change anything below, but make sure\n",
    "### that the version of poi_id.py that you submit can be run on its own and\n",
    "### generates the necessary .pkl files for validating your results.\n",
    "dump_classifier_and_data(clf, my_dataset, features_list)\n",
    "plt.scatter(features_test_pca[:, 0], features_test_pca[:, 1],\\\n",
    "            c=y_pred, cmap=cm_bright, alpha=.5)\n",
    "plt.show()"
   ]
  },
  {
   "cell_type": "code",
   "execution_count": 120,
   "metadata": {},
   "outputs": [
    {
     "name": "stdout",
     "output_type": "stream",
     "text": [
      "LogisticRegression(C=1.0, class_weight='balanced', dual=False,\n",
      "          fit_intercept=True, intercept_scaling=1, max_iter=1000,\n",
      "          multi_class='ovr', n_jobs=1, penalty='l2', random_state=None,\n",
      "          solver='liblinear', tol=0.0001, verbose=0, warm_start=False)\n",
      "\tAccuracy: 0.62647\tPrecision: 0.18177\tRecall: 0.51450\tF1: 0.26863\tF2: 0.37662\n",
      "\tTotal predictions: 15000\tTrue positives: 1029\tFalse positives: 4632\tFalse negatives:  971\tTrue negatives: 8368\n",
      "\n"
     ]
    }
   ],
   "source": [
    "%run ./tester.py"
   ]
  },
  {
   "cell_type": "code",
   "execution_count": null,
   "metadata": {
    "collapsed": true
   },
   "outputs": [],
   "source": []
  }
 ],
 "metadata": {
  "kernelspec": {
   "display_name": "Python 2",
   "language": "python",
   "name": "python2"
  },
  "language_info": {
   "codemirror_mode": {
    "name": "ipython",
    "version": 2
   },
   "file_extension": ".py",
   "mimetype": "text/x-python",
   "name": "python",
   "nbconvert_exporter": "python",
   "pygments_lexer": "ipython2",
   "version": "2.7.13"
  }
 },
 "nbformat": 4,
 "nbformat_minor": 2
}
